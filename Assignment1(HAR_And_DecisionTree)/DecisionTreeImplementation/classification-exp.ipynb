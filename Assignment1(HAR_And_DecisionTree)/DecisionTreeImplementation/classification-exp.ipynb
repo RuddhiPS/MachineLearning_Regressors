{
 "cells": [
  {
   "cell_type": "code",
   "execution_count": 1,
   "metadata": {},
   "outputs": [
    {
     "name": "stdout",
     "output_type": "stream",
     "text": [
      "D:\\ruddhi\\iitgn-study\\ML\\Regressors\\MachineLearning_Regressors\\Assignment1(HAR_And_DecisionTree)\\DecisionTreeImplementation\n",
      "D:\\ruddhi\\iitgn-study\\ML\\Regressors\\MachineLearning_Regressors\\Assignment1(HAR_And_DecisionTree)\\DecisionTreeImplementation\n"
     ]
    }
   ],
   "source": [
    "import pandas as pd\n",
    "import numpy as np\n",
    "import matplotlib.pyplot as plt\n",
    "from tree.base import DecisionTree\n",
    "from metrics import *\n",
    "from sklearn.datasets import make_classification"
   ]
  },
  {
   "cell_type": "code",
   "execution_count": 2,
   "metadata": {},
   "outputs": [],
   "source": [
    "np.random.seed(42)"
   ]
  },
  {
   "cell_type": "code",
   "execution_count": 3,
   "metadata": {},
   "outputs": [],
   "source": [
    "# Code given in the question\n",
    "X, y = make_classification(\n",
    "    n_features=2, n_redundant=0, n_informative=2, random_state=1, n_clusters_per_class=2, class_sep=0.5)\n"
   ]
  },
  {
   "cell_type": "code",
   "execution_count": 4,
   "metadata": {},
   "outputs": [
    {
     "data": {
      "text/plain": [
       "Text(0.5, 1.0, 'Classification Experiment Data')"
      ]
     },
     "execution_count": 4,
     "metadata": {},
     "output_type": "execute_result"
    },
    {
     "data": {
      "image/png": "[encoded data removed]",
      "text/plain": [
       "<Figure size 432x288 with 1 Axes>"
      ]
     },
     "metadata": {
      "needs_background": "light"
     },
     "output_type": "display_data"
    }
   ],
   "source": [
    "plt.scatter(X[:, 0], X[:, 1], c=y)\n",
    "plt.xlabel('Feature 1')\n",
    "plt.ylabel('Feature ')\n",
    "plt.title('Classification Experiment Data')"
   ]
  },
  {
   "cell_type": "code",
   "execution_count": 5,
   "metadata": {},
   "outputs": [],
   "source": [
    "df_X=pd.DataFrame(X,columns=['Feature-1','Feature-2'])"
   ]
  },
  {
   "cell_type": "code",
   "execution_count": 6,
   "metadata": {},
   "outputs": [],
   "source": [
    "df_y=pd.DataFrame(y,columns=['Result'])"
   ]
  },
  {
   "cell_type": "code",
   "execution_count": 7,
   "metadata": {},
   "outputs": [],
   "source": [
    "df=pd.concat([df_X,df_y],axis=1,ignore_index=False)"
   ]
  },
  {
   "cell_type": "markdown",
   "metadata": {},
   "source": [
    "## (a)"
   ]
  },
  {
   "cell_type": "code",
   "execution_count": 8,
   "metadata": {},
   "outputs": [],
   "source": [
    "df=df.sample(frac=1,random_state=42).reset_index(drop=True)"
   ]
  },
  {
   "cell_type": "code",
   "execution_count": 9,
   "metadata": {},
   "outputs": [],
   "source": [
    "X=df.iloc[:,[0,1]]"
   ]
  },
  {
   "cell_type": "code",
   "execution_count": 10,
   "metadata": {},
   "outputs": [],
   "source": [
    "y=df.iloc[:,[2]]"
   ]
  },
  {
   "cell_type": "code",
   "execution_count": 11,
   "metadata": {},
   "outputs": [],
   "source": [
    "X=np.array(X)"
   ]
  },
  {
   "cell_type": "code",
   "execution_count": 12,
   "metadata": {},
   "outputs": [],
   "source": [
    "y=np.array(y).flatten()"
   ]
  },
  {
   "cell_type": "code",
   "execution_count": 13,
   "metadata": {},
   "outputs": [],
   "source": [
    "record_cnt=X.shape[0]\n",
    "indices=np.arange(record_cnt)"
   ]
  },
  {
   "cell_type": "code",
   "execution_count": 14,
   "metadata": {},
   "outputs": [],
   "source": [
    "splitting_id=0.7*record_cnt"
   ]
  },
  {
   "cell_type": "code",
   "execution_count": 15,
   "metadata": {},
   "outputs": [],
   "source": [
    "splitting_id=int(splitting_id)"
   ]
  },
  {
   "cell_type": "code",
   "execution_count": 16,
   "metadata": {},
   "outputs": [],
   "source": [
    "X_train = X[indices[:splitting_id]]\n",
    "y_train = y[indices[:splitting_id]]\n",
    "X_test = X[indices[splitting_id:]]\n",
    "y_test = y[indices[splitting_id:]]"
   ]
  },
  {
   "cell_type": "code",
   "execution_count": 17,
   "metadata": {},
   "outputs": [],
   "source": [
    "X_train=pd.DataFrame(X_train, columns=['Feature1', 'Feature2'])"
   ]
  },
  {
   "cell_type": "code",
   "execution_count": 18,
   "metadata": {},
   "outputs": [],
   "source": [
    "y_train= pd.Series(y_train)"
   ]
  },
  {
   "cell_type": "code",
   "execution_count": 19,
   "metadata": {},
   "outputs": [],
   "source": [
    "dt=DecisionTree(criterion='entropy')"
   ]
  },
  {
   "cell_type": "code",
   "execution_count": 20,
   "metadata": {},
   "outputs": [],
   "source": [
    "dt.fit(X_train,y_train)"
   ]
  },
  {
   "cell_type": "code",
   "execution_count": 21,
   "metadata": {},
   "outputs": [],
   "source": [
    "X_test=pd.DataFrame(X_test, columns=['Feature1', 'Feature2'])"
   ]
  },
  {
   "cell_type": "code",
   "execution_count": 22,
   "metadata": {},
   "outputs": [],
   "source": [
    "y_pred=dt.predict(X_test)"
   ]
  },
  {
   "cell_type": "code",
   "execution_count": 23,
   "metadata": {},
   "outputs": [
    {
     "name": "stdout",
     "output_type": "stream",
     "text": [
      "<class 'pandas.core.series.Series'>\n"
     ]
    }
   ],
   "source": [
    "y_test=pd.Series(y_test)\n",
    "print(type(y_test))"
   ]
  },
  {
   "cell_type": "code",
   "execution_count": 24,
   "metadata": {},
   "outputs": [],
   "source": [
    "y=pd.Series(y)\n"
   ]
  },
  {
   "cell_type": "code",
   "execution_count": 25,
   "metadata": {},
   "outputs": [
    {
     "name": "stdout",
     "output_type": "stream",
     "text": [
      "Accuracy:  0.9333333333333333\n",
      "Precision for class-1:  0.9\n",
      "Recall for class-1:  1.0\n",
      "Precision for class-0:  1.0\n",
      "Recall for class-0:  0.8333333333333334\n"
     ]
    }
   ],
   "source": [
    "acc=accuracy(y_test,y_pred)\n",
    "print(\"Accuracy: \",acc)\n",
    "for cls in y.unique():\n",
    "    prec=precision(y_pred,y_test,cls)\n",
    "    print(f\"Precision for class-{cls}: \",prec)\n",
    "    rec=recall(y_pred,y_test,cls)\n",
    "    print(f\"Recall for class-{cls}: \",rec)"
   ]
  },
  {
   "cell_type": "markdown",
   "metadata": {},
   "source": [
    "## (b)"
   ]
  },
  {
   "cell_type": "code",
   "execution_count": 26,
   "metadata": {},
   "outputs": [],
   "source": [
    "K=5 #no. of folds\n",
    "depths=range(0,6)"
   ]
  },
  {
   "cell_type": "code",
   "execution_count": 27,
   "metadata": {},
   "outputs": [],
   "source": [
    "fold_size=len(df)//K"
   ]
  },
  {
   "cell_type": "code",
   "execution_count": 28,
   "metadata": {},
   "outputs": [],
   "source": [
    "best_depths=[]\n",
    "fold_accs=[]"
   ]
  },
  {
   "cell_type": "code",
   "execution_count": null,
   "metadata": {
    "scrolled": false
   },
   "outputs": [],
   "source": [
    "for fold_no in range(K):\n",
    "    start=fold_no*fold_size\n",
    "    end=(fold_no+1)*fold_size\n",
    "    val_data=df.iloc[start:end]\n",
    "    train_data=pd.concat([df.iloc[:start],df.iloc[end:]],axis=0)\n",
    "    \n",
    "    X_train=train_data.iloc[:,:-1] # all cols from train_data selected except the last\n",
    "    y_train=train_data.iloc[:,-1]\n",
    "    X_val=val_data.iloc[:,:-1]\n",
    "    y_val=val_data.iloc[:,-1]\n",
    "    \n",
    "    depth_accs=[]\n",
    "    \n",
    "    for depth in depths:\n",
    "        inner_accs=[]\n",
    "        for inner_fold_no in range(K):\n",
    "            \n",
    "            inner_start=inner_fold_no*fold_size\n",
    "            inner_end=(inner_fold_no+1)*fold_size\n",
    "            inner_val_data=df.iloc[inner_start:inner_end]\n",
    "            inner_train_data=pd.concat([df.iloc[:inner_start],df.iloc[inner_end:]],axis=0)\n",
    "            \n",
    "            X_inner_train = inner_train_data.iloc[:, :-1]\n",
    "            y_inner_train = inner_train_data.iloc[:, -1]\n",
    "            X_inner_val = inner_val_data.iloc[:, :-1]\n",
    "            y_inner_val = inner_val_data.iloc[:, -1]\n",
    "            \n",
    "            dec_tree = DecisionTree(criterion=\"entropy\",max_depth=depth)\n",
    "            dec_tree.fit(X_inner_train, y_inner_train)\n",
    "            y_inner_pred = dec_tree.predict(X_inner_val)\n",
    "            \n",
    "            inner_accs.append(accuracy(y_inner_pred,y_inner_val))\n",
    "            \n",
    "        depth_accs.append(np.mean(inner_accs))\n",
    "        \n",
    "    best_depth = depths[np.argmax(depth_accs)]\n",
    "    best_depths.append(best_depth)\n",
    "    \n",
    "    outer_dec_tree=DecisionTree(criterion=\"entropy\",max_depth=best_depth)\n",
    "    outer_dec_tree.fit(X_train,y_train)\n",
    "    y_val_pred=outer_dec_tree.predict(X_val)\n",
    "    \n",
    "    fold_accs.append(accuracy(y_val_pred,y_val))\n",
    "    \n",
    "avg_acc=np.mean(fold_accs)\n",
    "opt_depth=np.mean(best_depths)"
   ]
  },
  {
   "cell_type": "code",
   "execution_count": null,
   "metadata": {},
   "outputs": [],
   "source": [
    "print(f\"Optimal Depth is : {opt_depth}\")\n",
    "print(f\"Average Accuracy is : {avg_acc}\")"
   ]
  }
 ],
 "metadata": {
  "kernelspec": {
   "display_name": "Python 3",
   "language": "python",
   "name": "python3"
  },
  "language_info": {
   "codemirror_mode": {
    "name": "ipython",
    "version": 3
   },
   "file_extension": ".py",
   "mimetype": "text/x-python",
   "name": "python",
   "nbconvert_exporter": "python",
   "pygments_lexer": "ipython3",
   "version": "3.8.4"
  }
 },
 "nbformat": 4,
 "nbformat_minor": 5
}
